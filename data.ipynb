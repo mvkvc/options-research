{
 "cells": [
  {
   "cell_type": "code",
   "execution_count": null,
   "id": "ae835aa8",
   "metadata": {},
   "outputs": [],
   "source": [
    "!gcloud auth login"
   ]
  },
  {
   "cell_type": "code",
   "execution_count": 7,
   "id": "71d8317e",
   "metadata": {},
   "outputs": [
    {
     "name": "stdout",
     "output_type": "stream",
     "text": [
      "/bin/sh: 1: gcloud: not found\n"
     ]
    }
   ],
   "source": [
    "!gcloud cp gs://mv-options/Data.zip train_data/"
   ]
  },
  {
   "cell_type": "code",
   "execution_count": 11,
   "id": "4173091e",
   "metadata": {},
   "outputs": [
    {
     "name": "stdout",
     "output_type": "stream",
     "text": [
      "Archive:  train_data/Data.zip\n",
      "   creating: Data/\n",
      " extracting: Data/SPX_C.csv          \n",
      " extracting: Data/SPX_P.csv          \n",
      " extracting: Data/VIX_C.csv          \n",
      " extracting: Data/VIX_P.csv          \n",
      " extracting: Data/OEX_E_P.csv        \n",
      " extracting: Data/OEX_A_P.csv        \n",
      " extracting: Data/OEX_A_C.csv        \n",
      " extracting: Data/OEX_E_C.csv        \n",
      " extracting: Data/djx_c_over.csv     \n",
      " extracting: Data/djx_p_over.csv     \n"
     ]
    }
   ],
   "source": [
    "!unzip train_data/Data.zip"
   ]
  }
 ],
 "metadata": {
  "kernelspec": {
   "display_name": "Python [conda env:research]",
   "language": "python",
   "name": "conda-env-research-py"
  },
  "language_info": {
   "codemirror_mode": {
    "name": "ipython",
    "version": 3
   },
   "file_extension": ".py",
   "mimetype": "text/x-python",
   "name": "python",
   "nbconvert_exporter": "python",
   "pygments_lexer": "ipython3",
   "version": "3.6.13"
  }
 },
 "nbformat": 4,
 "nbformat_minor": 5
}
