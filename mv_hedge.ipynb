{
 "cells": [
  {
   "cell_type": "code",
   "execution_count": null,
   "id": "402c066d",
   "metadata": {},
   "outputs": [],
   "source": [
    "import matplotlib.pyplot as plt\n",
    "import numpy as np\n",
    "from numpy.polynomial.polynomial import Polynomial\n",
    "import pandas as pd\n",
    "from tqdm import trange\n",
    "\n",
    "pd.set_option(\"mode.chained_assignment\", None)"
   ]
  },
  {
   "cell_type": "code",
   "execution_count": null,
   "id": "6d887599",
   "metadata": {},
   "outputs": [],
   "source": [
    "params = {\n",
    "    \"path\": [\"train_data/SPX_C.csv\", \"train_data/SPX_P.csv\"],\n",
    "    \"bal_per\": 1,\n",
    "    \"lookback_mths\": 12,\n",
    "    \"T_days\": 252,\n",
    "    \"tickers\": [],\n",
    "    \"excel_rows\": 100000,\n",
    "    \"debug\": 50,\n",
    "}"
   ]
  },
  {
   "cell_type": "code",
   "execution_count": null,
   "id": "3601f7e7",
   "metadata": {},
   "outputs": [],
   "source": [
    "df = pd.DataFrame()"
   ]
  },
  {
   "cell_type": "code",
   "execution_count": null,
   "id": "23744753",
   "metadata": {},
   "outputs": [],
   "source": [
    "for path in params[\"path\"]:\n",
    "    df_ph = pd.read_csv(path)\n",
    "    df_ph[\"type\"] = path[path.find(\".csv\") - 1]\n",
    "    df = df.append(df_ph)"
   ]
  },
  {
   "cell_type": "code",
   "execution_count": null,
   "id": "67231b20",
   "metadata": {},
   "outputs": [],
   "source": [
    "df[\"mth_yr\"] = pd.to_datetime(df[\"quote_date\"]).dt.to_period(\"M\").astype(str)\n",
    "mth_ids = df[\"mth_yr\"].unique().astype(str)\n",
    "mth_dict = dict(zip(list(mth_ids), range(0, len(mth_ids))))\n",
    "df[\"mth_id\"] = df[\"mth_yr\"].map(mth_dict)"
   ]
  },
  {
   "cell_type": "code",
   "execution_count": null,
   "id": "f8902119",
   "metadata": {},
   "outputs": [],
   "source": [
    "if params[\"debug\"] > 0:\n",
    "    df = df[df[\"mth_id\"] < params[\"debug\"] + params[\"lookback_mths\"]]"
   ]
  },
  {
   "cell_type": "code",
   "execution_count": null,
   "id": "fc8968b4",
   "metadata": {},
   "outputs": [],
   "source": [
    "len_mths = len(df[\"mth_id\"].unique())"
   ]
  },
  {
   "cell_type": "code",
   "execution_count": null,
   "id": "d5e276a9",
   "metadata": {},
   "outputs": [],
   "source": [
    "if len(params[\"tickers\"]) > 0:\n",
    "    df = df[df[\"root\"].isin(params[\"tickers\"])]"
   ]
  },
  {
   "cell_type": "code",
   "execution_count": null,
   "id": "3d9c07b7",
   "metadata": {},
   "outputs": [],
   "source": [
    "df[\"time to maturity\"] = df[\"time to maturity\"].astype(\"int32\")"
   ]
  },
  {
   "cell_type": "code",
   "execution_count": null,
   "id": "f06e7100",
   "metadata": {},
   "outputs": [],
   "source": [
    "df[\"option_changed\"] = (\n",
    "    df[[\"exdate\", \"strike price\"]].shift(-params[\"bal_per\"])\n",
    "    != df[[\"exdate\", \"strike price\"]]\n",
    ").any(axis=1)"
   ]
  },
  {
   "cell_type": "code",
   "execution_count": null,
   "id": "cfa8c526",
   "metadata": {},
   "outputs": [],
   "source": [
    "df[\"date_diff\"] = np.array(\n",
    "    pd.to_datetime(df[\"quote_date\"]).diff().shift(-params[\"bal_per\"]), dtype=np.int16\n",
    ")"
   ]
  },
  {
   "cell_type": "code",
   "execution_count": null,
   "id": "6814a02e",
   "metadata": {},
   "outputs": [],
   "source": [
    "df[\"next_S\"] = df[\"underlying price\"].shift(-params[\"bal_per\"])\n",
    "df[\"next_f\"] = df[\"option price\"].shift(-params[\"bal_per\"])"
   ]
  },
  {
   "cell_type": "code",
   "execution_count": null,
   "id": "75fc6deb",
   "metadata": {},
   "outputs": [],
   "source": [
    "df[\"del_S\"] = df[\"underlying price\"].diff().shift(-params[\"bal_per\"])\n",
    "df[\"del_f\"] = df[\"option price\"].diff().shift(-params[\"bal_per\"])"
   ]
  },
  {
   "cell_type": "code",
   "execution_count": null,
   "id": "8cd2b304",
   "metadata": {},
   "outputs": [],
   "source": [
    "df[\"scal_next_S\"] = df[\"next_S\"] / df[\"underlying price\"]\n",
    "df[\"scal_del_S\"] = df[\"scal_next_S\"] - 1"
   ]
  },
  {
   "cell_type": "code",
   "execution_count": null,
   "id": "5fbd3ee2",
   "metadata": {},
   "outputs": [],
   "source": [
    "df[\"scal_f\"] = df[\"option price\"] / df[\"underlying price\"]\n",
    "df[\"scal_next_f\"] = df[\"next_f\"] / df[\"underlying price\"]\n",
    "df[\"scal_del_f\"] = df[\"scal_next_f\"] - df[\"scal_f\"]"
   ]
  },
  {
   "cell_type": "code",
   "execution_count": null,
   "id": "976daa0a",
   "metadata": {},
   "outputs": [],
   "source": [
    "df[\"T\"] = df[\"time to maturity\"] / params[\"T_days\"]\n",
    "df[\"scal_err_del\"] = df[\"scal_del_f\"] - (df[\"delta\"] * df[\"scal_del_S\"])\n",
    "df[\"regr_term\"] = (df[\"vega\"] / np.sqrt(df[\"T\"])) * df[\"scal_del_S\"]\n",
    "df[\"regr_y\"] = df[\"scal_err_del\"] / df[\"regr_term\"]"
   ]
  },
  {
   "cell_type": "code",
   "execution_count": null,
   "id": "27844005",
   "metadata": {},
   "outputs": [],
   "source": [
    "df = df[:-1]\n",
    "\n",
    "df = df[df[\"date_diff\"] <= 4]\n",
    "\n",
    "df = df[df[\"option_changed\"] == False]\n",
    "df = df[df[\"time to maturity\"] >= 14]\n",
    "\n",
    "df_1 = df[(df[\"type\"] == \"C\") & (df[\"delta\"] > 0.05) & (df[\"delta\"] < 0.95)]\n",
    "df_2 = df[(df[\"type\"] == \"P\") & (df[\"delta\"] < -0.05) & (df[\"delta\"] > -0.95)]\n",
    "df = df_1.append(df_2)"
   ]
  },
  {
   "cell_type": "code",
   "execution_count": null,
   "id": "bcafd0f1",
   "metadata": {},
   "outputs": [],
   "source": [
    "df.reset_index(drop=True, inplace=True)\n",
    "df[\"a\"] = np.inf\n",
    "df[\"b\"] = np.inf\n",
    "df[\"c\"] = np.inf"
   ]
  },
  {
   "cell_type": "code",
   "execution_count": null,
   "id": "30695f7b",
   "metadata": {},
   "outputs": [],
   "source": [
    "longst_mat = max(df[\"time to maturity\"])\n",
    "longst_mat\n",
    "bucket_mat = [\n",
    "    [14, 30],\n",
    "    [31, 60],\n",
    "    [61, 91],\n",
    "    [92, 122],\n",
    "    [123, 182],\n",
    "    [183, 365],\n",
    "    [366, longst_mat],\n",
    "]\n",
    "bucket_del = [0.1, 0.2, 0.3, 0.4, 0.5, 0.6, 0.7, 0.8, 0.9]"
   ]
  },
  {
   "cell_type": "code",
   "execution_count": null,
   "id": "bc03b73b",
   "metadata": {},
   "outputs": [],
   "source": [
    "def range_incl(a, b, add=1):\n",
    "    return range(a, b + add)"
   ]
  },
  {
   "cell_type": "code",
   "execution_count": null,
   "id": "3f8fd036",
   "metadata": {},
   "outputs": [],
   "source": [
    "for mth in trange(params[\"lookback_mths\"], len_mths, desc=\"Fitting regr\"):\n",
    "    for delta in bucket_del:\n",
    "        for maturity in bucket_mat:\n",
    "\n",
    "            df_regr = df[round(df[\"delta\"], 1) == delta].copy()\n",
    "            df_regr = df_regr[\n",
    "                df_regr[\"time to maturity\"].isin(range_incl(maturity[0], maturity[1]))\n",
    "            ]\n",
    "\n",
    "            last_mths = list(range(max(0, mth - params[\"lookback_mths\"]), mth))\n",
    "            fit_rows = df_regr[df_regr[\"mth_id\"].isin(last_mths)].index\n",
    "            prd_rows = df_regr[df_regr[\"mth_id\"] == mth].index\n",
    "\n",
    "            if (len(fit_rows) > 0) & (len(prd_rows) > 0):\n",
    "                poly = Polynomial([1, 1, 1])\n",
    "                a, b, c = poly.fit(\n",
    "                    df[\"delta\"].iloc[fit_rows], df[\"regr_y\"].iloc[fit_rows], deg=2\n",
    "                )\n",
    "\n",
    "                df[\"a\"].iloc[prd_rows] = a\n",
    "                df[\"b\"].iloc[prd_rows] = b\n",
    "                df[\"c\"].iloc[prd_rows] = c\n"
   ]
  },
  {
   "cell_type": "code",
   "execution_count": null,
   "id": "ac1dcf30",
   "metadata": {},
   "outputs": [],
   "source": [
    "df = df[df[\"mth_id\"] >= params[\"lookback_mths\"]]"
   ]
  },
  {
   "cell_type": "code",
   "execution_count": null,
   "id": "950a993a",
   "metadata": {},
   "outputs": [],
   "source": [
    "if params[\"excel_rows\"] > 0:\n",
    "    rnd_id = np.random.randint(low=0, high=(len(df) - params[\"excel_rows\"]), size=1)[0]\n",
    "    df.iloc[rnd_id : (rnd_id + params[\"excel_rows\"])].to_csv(\"results/bfr_filtr.csv\")"
   ]
  },
  {
   "cell_type": "code",
   "execution_count": null,
   "id": "11014484",
   "metadata": {},
   "outputs": [],
   "source": [
    "len1 = len(df)\n",
    "df.replace(to_replace=[np.inf, -np.inf], value=[np.nan, np.nan], inplace=True)\n",
    "df.dropna(inplace=True)\n",
    "len2 = len(df)\n",
    "print(\"Removed {} rows with inf, -inf, or n/a\".format(len1 - len2))"
   ]
  },
  {
   "cell_type": "code",
   "execution_count": null,
   "id": "70e046cd",
   "metadata": {},
   "outputs": [],
   "source": [
    "df[\"quad_fnc\"] = df[\"a\"] + (df[\"b\"] * df[\"delta\"]) + (df[\"c\"] * (df[\"delta\"] ** 2))"
   ]
  },
  {
   "cell_type": "code",
   "execution_count": null,
   "id": "dcdbd062",
   "metadata": {},
   "outputs": [],
   "source": [
    "df[\"mv_delta\"] = (\n",
    "    df[\"delta\"]\n",
    "    + (df[\"vega\"] / (df[\"underlying price\"] * np.sqrt(df[\"T\"]))) * df[\"quad_fnc\"]\n",
    ")"
   ]
  },
  {
   "cell_type": "code",
   "execution_count": null,
   "id": "fd407e39",
   "metadata": {},
   "outputs": [],
   "source": [
    "df[\"err_mv\"] = (\n",
    "    df[\"del_f\"] - (df[\"delta\"] * df[\"del_S\"]) - (df[\"regr_term\"] * df[\"quad_fnc\"])\n",
    ")"
   ]
  },
  {
   "cell_type": "code",
   "execution_count": null,
   "id": "6efedde5",
   "metadata": {},
   "outputs": [],
   "source": [
    "df[\"err_del\"] = df[\"del_f\"] - (df[\"delta\"] * df[\"del_S\"])"
   ]
  },
  {
   "cell_type": "code",
   "execution_count": null,
   "id": "b1952096",
   "metadata": {},
   "outputs": [],
   "source": [
    "gain = 1 - ((df[\"err_mv\"] ** 2).sum() / (df[\"err_del\"] ** 2).sum())\n",
    "print(\"Resulting gain: {}%\".format(round(gain * 100, 2)))"
   ]
  },
  {
   "cell_type": "code",
   "execution_count": null,
   "id": "04ff541a",
   "metadata": {},
   "outputs": [],
   "source": [
    "cols = [\n",
    "    \"quote_date\",\n",
    "    \"root\",\n",
    "    \"exdate\",\n",
    "    \"strike price\",\n",
    "    \"underlying price\",\n",
    "    \"option price\",\n",
    "    \"gamma\",\n",
    "    \"vega\",\n",
    "    \"rho\",\n",
    "    \"implied volatility\",\n",
    "    \"time to maturity\",\n",
    "    \"T\",\n",
    "    \"next_S\",\n",
    "    \"next_f\",\n",
    "    \"scal_next_S\",\n",
    "    \"scal_next_f\",\n",
    "    \"del_S\",\n",
    "    \"del_f\",\n",
    "    \"scal_del_S\",\n",
    "    \"scal_del_f\",\n",
    "    \"regr_term\",\n",
    "    \"regr_y\",\n",
    "    \"a\",\n",
    "    \"b\",\n",
    "    \"c\",\n",
    "    \"quad_fnc\",\n",
    "    \"delta\",\n",
    "    \"mv_delta\",\n",
    "    \"err_del\",\n",
    "    \"err_mv\",\n",
    "    \"type\",\n",
    "    \"mth_yr\",\n",
    "    \"mth_id\",\n",
    "]\n",
    "df = df[cols]"
   ]
  },
  {
   "cell_type": "code",
   "execution_count": null,
   "id": "13519c66",
   "metadata": {},
   "outputs": [],
   "source": [
    "if params[\"excel_rows\"] > 0:\n",
    "    rnd_id = np.random.randint(low=0, high=(len(df) - params[\"excel_rows\"]), size=1)[0]\n",
    "    df.iloc[rnd_id : (rnd_id + params[\"excel_rows\"])].to_csv(\n",
    "        \"results/\" + \"_\" + str(round(gain, 2)) + \".csv\"\n",
    "    )"
   ]
  },
  {
   "cell_type": "code",
   "execution_count": null,
   "id": "7648233d",
   "metadata": {},
   "outputs": [],
   "source": [
    "df_plt = df[[\"mth_id\", \"mth_yr\", \"a\", \"b\", \"c\"]]\n",
    "df_plt.drop_duplicates(subset=\"mth_id\", inplace=True)\n",
    "df_plt[\"-b\"] = -df_plt[\"b\"]\n",
    "df_plt = df_plt[[\"mth_yr\", \"a\", \"-b\", \"c\"]]\n",
    "df_plt.plot(figsize=(10, 5), grid=True)\n",
    "plt.savefig(\"results/polyfit_coef_\" + str(round(gain, 2)) + \".png\")"
   ]
  }
 ],
 "metadata": {
  "kernelspec": {
   "display_name": "Python [conda env:research]",
   "language": "python",
   "name": "conda-env-research-py"
  },
  "language_info": {
   "codemirror_mode": {
    "name": "ipython",
    "version": 3
   },
   "file_extension": ".py",
   "mimetype": "text/x-python",
   "name": "python",
   "nbconvert_exporter": "python",
   "pygments_lexer": "ipython3",
   "version": "3.6.13"
  }
 },
 "nbformat": 4,
 "nbformat_minor": 5
}
